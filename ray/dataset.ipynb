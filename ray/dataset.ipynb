{
 "cells": [
  {
   "cell_type": "code",
   "execution_count": null,
   "metadata": {},
   "outputs": [],
   "source": [
    "import ray\n",
    "\n",
    "items = [{\"name\": str(i), \"data\": i} for i in range(10000)]\n",
    "\n",
    "ds = ray.data.from_items(items)\n",
    "ds.show(5)"
   ]
  },
  {
   "cell_type": "code",
   "execution_count": null,
   "metadata": {},
   "outputs": [],
   "source": [
    "pipe = ds.pipeline()\n",
    "result = pipe.map(lambda x : x[\"data\"] ** 2)\\\n",
    "             .filter(lambda x : x % 2 == 0)\\\n",
    "             .flat_map(lambda x : [x, x**3])\n",
    "result.show(10)"
   ]
  },
  {
   "cell_type": "code",
   "execution_count": 1,
   "metadata": {},
   "outputs": [
    {
     "name": "stderr",
     "output_type": "stream",
     "text": [
      "/opt/anaconda3/envs/pytorch/lib/python3.11/site-packages/tqdm/auto.py:21: TqdmWarning: IProgress not found. Please update jupyter and ipywidgets. See https://ipywidgets.readthedocs.io/en/stable/user_install.html\n",
      "  from .autonotebook import tqdm as notebook_tqdm\n",
      "2025-04-15 15:39:55,362\tINFO util.py:154 -- Missing packages: ['ipywidgets']. Run `pip install -U ipywidgets`, then restart the notebook server for rich notebook output.\n",
      "2025-04-15 15:39:56,189\tINFO worker.py:1852 -- Started a local Ray instance.\n",
      "2025-04-15 15:39:57,076\tINFO util.py:154 -- Missing packages: ['ipywidgets']. Run `pip install -U ipywidgets`, then restart the notebook server for rich notebook output.\n",
      "2025-04-15 15:39:57,337\tINFO streaming_executor.py:108 -- Starting execution of Dataset. Full logs are in /tmp/ray/session_2025-04-15_15-39-55_486746_79195/logs/ray-data\n",
      "2025-04-15 15:39:57,337\tINFO streaming_executor.py:109 -- Execution plan of Dataset: InputDataBuffer[Input] -> TaskPoolMapOperator[ReadRange]\n",
      "                                                                                                 \n",
      "✔️  Dataset execution finished in 0.78 seconds: 100%|██████████| 100/100 [00:00<00:00, 130 row/s]\n",
      "\n",
      "- ReadRange: Tasks: 0; Queued blocks: 0; Resources: 0.0 CPU, 48.0B object store: 100%|██████████| 100/100 [00:00<00:00, 132 row/s]\n"
     ]
    },
    {
     "ename": "AttributeError",
     "evalue": "'MaterializedDataset' object has no attribute 'to_pipeline'",
     "output_type": "error",
     "traceback": [
      "\u001b[0;31m---------------------------------------------------------------------------\u001b[0m",
      "\u001b[0;31mAttributeError\u001b[0m                            Traceback (most recent call last)",
      "Cell \u001b[0;32mIn[1], line 20\u001b[0m\n\u001b[1;32m     17\u001b[0m new_ds \u001b[38;5;241m=\u001b[39m ray\u001b[38;5;241m.\u001b[39mdata\u001b[38;5;241m.\u001b[39mfrom_items(data)  \u001b[38;5;66;03m# 从数据重新创建 Dataset\u001b[39;00m\n\u001b[1;32m     19\u001b[0m \u001b[38;5;66;03m# 将 Dataset 转换为 DatasetPipeline\u001b[39;00m\n\u001b[0;32m---> 20\u001b[0m pipeline \u001b[38;5;241m=\u001b[39m \u001b[43mnew_ds\u001b[49m\u001b[38;5;241;43m.\u001b[39;49m\u001b[43mto_pipeline\u001b[49m()\n\u001b[1;32m     22\u001b[0m \u001b[38;5;66;03m# 验证转换结果\u001b[39;00m\n\u001b[1;32m     23\u001b[0m \u001b[38;5;28mprint\u001b[39m(\u001b[38;5;28mtype\u001b[39m(pipeline))  \u001b[38;5;66;03m# 输出 <class 'ray.data.dataset_pipeline.DatasetPipeline'>\u001b[39;00m\n",
      "\u001b[0;31mAttributeError\u001b[0m: 'MaterializedDataset' object has no attribute 'to_pipeline'"
     ]
    }
   ],
   "source": [
    "import ray\n",
    "\n",
    "# 初始化 Ray\n",
    "ray.init()\n",
    "\n",
    "# 创建一个示例数据集\n",
    "ds = ray.data.range(100)\n",
    "\n",
    "# 物化数据集，生成 MaterializedDataset\n",
    "materialized_ds = ds.materialize()\n",
    "\n",
    "# 由于 MaterializedDataset 没有 pipeline 方法，我们需要重新构造 Dataset\n",
    "# 如果有原始数据源，直接使用原始数据源创建 Dataset\n",
    "# 这里为了演示，假设我们从 materialized_ds 的数据重新构造\n",
    "# 注意：直接从 MaterializedDataset 提取数据可能不是最优方式，建议回溯到原始 Dataset\n",
    "data = materialized_ds.take_all()  # 获取所有数据\n",
    "new_ds = ray.data.from_items(data)  # 从数据重新创建 Dataset\n",
    "\n",
    "# 将 Dataset 转换为 DatasetPipeline\n",
    "pipeline = new_ds.to_pipeline()\n",
    "\n",
    "# 验证转换结果\n",
    "print(type(pipeline))  # 输出 <class 'ray.data.dataset_pipeline.DatasetPipeline'>\n",
    "\n",
    "# 对 DatasetPipeline 进行操作\n",
    "for batch in pipeline.iter_batches(batch_size=10):\n",
    "    print(batch)"
   ]
  },
  {
   "cell_type": "code",
   "execution_count": null,
   "metadata": {},
   "outputs": [],
   "source": []
  },
  {
   "cell_type": "code",
   "execution_count": null,
   "metadata": {},
   "outputs": [],
   "source": []
  }
 ],
 "metadata": {
  "kernelspec": {
   "display_name": "pytorch",
   "language": "python",
   "name": "python3"
  },
  "language_info": {
   "codemirror_mode": {
    "name": "ipython",
    "version": 3
   },
   "file_extension": ".py",
   "mimetype": "text/x-python",
   "name": "python",
   "nbconvert_exporter": "python",
   "pygments_lexer": "ipython3",
   "version": "3.11.11"
  }
 },
 "nbformat": 4,
 "nbformat_minor": 2
}
