{
 "cells": [
  {
   "cell_type": "code",
   "execution_count": 27,
   "metadata": {},
   "outputs": [
    {
     "name": "stdout",
     "output_type": "stream",
     "text": [
      "The autoreload extension is already loaded. To reload it, use:\n",
      "  %reload_ext autoreload\n",
      "(13, 16, 3, 3)\n",
      "[[nan  0. nan]\n",
      " [ 0. nan  0.]\n",
      " [nan  0. nan]]\n"
     ]
    }
   ],
   "source": [
    "import pandas as pd\n",
    "import numpy as np\n",
    "%load_ext autoreload\n",
    "%autoreload 2\n",
    "\n",
    "file_path = 'manual_park_data.csv'\n",
    "df = pd.read_csv(file_path,header=None)\n",
    "rows,cols = df.shape\n",
    "blocks = []\n",
    "for i in range(0,rows,3):\n",
    "    b = []\n",
    "    for j in range(0,cols,3):\n",
    "        unit = df.iloc[i:i+3,j:j+3]\n",
    "        b.append(unit)\n",
    "    blocks.append(b)\n",
    "\n",
    "blocks = np.array(blocks)\n",
    "print(blocks.shape)\n",
    "print(blocks[0][0])"
   ]
  },
  {
   "cell_type": "code",
   "execution_count": null,
   "metadata": {},
   "outputs": [
    {
     "name": "stdout",
     "output_type": "stream",
     "text": [
      "pack shape: (13, 16)\n"
     ]
    }
   ],
   "source": [
    "from park_unit import ParkUnit,ParkUnitMatPack\n",
    "\n",
    "units_mat = []\n",
    "for r in range(blocks.shape[0]):\n",
    "    units_row = []\n",
    "    for c in range(blocks.shape[1]):\n",
    "        block = blocks[r][c]\n",
    "        up = block[0][1]\n",
    "        down = block[2][1]\n",
    "        left = block[1][0]\n",
    "        right = block[1][2]\n",
    "        unit = ParkUnit(edge_carNum=[up,down,left,right],coord=(c,r))\n",
    "        \n",
    "        units_row.append(unit)\n",
    "    units_mat.append(units_row)\n",
    "units_pack = ParkUnitMatPack(units_mat)\n",
    "\n",
    "\n",
    "\n",
    "print(\"pack shape:\",units_pack.units_arr.shape)\n",
    "units_pack.get_unit_byCoord((7,12)).is_entrance = True\n",
    "units_pack.get_unit_byCoord((14,12)).is_entrance = True\n",
    "units_pack.connect_neighbor()\n",
    "\n"
   ]
  },
  {
   "cell_type": "code",
   "execution_count": 43,
   "metadata": {},
   "outputs": [
    {
     "data": {
      "text/plain": [
       "15"
      ]
     },
     "execution_count": 43,
     "metadata": {},
     "output_type": "execute_result"
    }
   ],
   "source": [
    "units_pack.get_unit_byState(15).state"
   ]
  }
 ],
 "metadata": {
  "kernelspec": {
   "display_name": "pytorch",
   "language": "python",
   "name": "python3"
  },
  "language_info": {
   "codemirror_mode": {
    "name": "ipython",
    "version": 3
   },
   "file_extension": ".py",
   "mimetype": "text/x-python",
   "name": "python",
   "nbconvert_exporter": "python",
   "pygments_lexer": "ipython3",
   "version": "3.11.11"
  }
 },
 "nbformat": 4,
 "nbformat_minor": 2
}
